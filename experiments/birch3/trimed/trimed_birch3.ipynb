{
 "cells": [
  {
   "cell_type": "code",
   "execution_count": 58,
   "metadata": {
    "collapsed": false
   },
   "outputs": [
    {
     "name": "stdout",
     "output_type": "stream",
     "text": [
      "\n"
     ]
    }
   ],
   "source": [
    "import sys\n",
    "\n",
    "sys.path.append(\"/data/medoid_bandit/E18_Mice/trimed/build/python\")\n",
    "\n",
    "import random\n",
    "import numpy as np\n",
    "import numpy.random as npr\n",
    "import pytrimed\n",
    "\n",
    "from IPython.core.debugger import Tracer \n",
    "birch3 = np.loadtxt(\"/data/medoid_bandit/E18_Mice/trimed_datasets/birch3/birch3.txt\")"
   ]
  },
  {
   "cell_type": "code",
   "execution_count": 59,
   "metadata": {
    "collapsed": false
   },
   "outputs": [],
   "source": [
    "def get_n_computed(X, alg):\n",
    "    if alg == \"trimed\":\n",
    "        return int(X.split(\"\\n\")[-2].split()[2])\n",
    "    else:\n",
    "        return int(X.split(\"\\n\")[-2].split()[1])\n",
    "\n",
    "\n",
    "def run_experiment(data):\n",
    "    alg = \"trimed\"\n",
    "    n,d = np.shape(data)\n",
    "#     print \"d = \", d, \" n = \", n, \"  alg = \", alg\n",
    "    X = pytrimed.pmedoid(data, datatype = \"points\", algorithm = \"trimed\", capture_output = True, maxcomputes = None)\n",
    "    return X\n",
    "    \n",
    "    \n"
   ]
  },
  {
   "cell_type": "code",
   "execution_count": 60,
   "metadata": {
    "collapsed": false
   },
   "outputs": [
    {
     "data": {
      "text/plain": [
       "1500"
      ]
     },
     "execution_count": 60,
     "metadata": {},
     "output_type": "execute_result"
    }
   ],
   "source": [
    "X = run_experiment(birch3)\n",
    "get_n_computed(X[\"text\"], \"trimed\")"
   ]
  },
  {
   "cell_type": "code",
   "execution_count": 61,
   "metadata": {
    "collapsed": false
   },
   "outputs": [
    {
     "name": "stdout",
     "output_type": "stream",
     "text": [
      "(9, 1485.5) (19, 1490.3) (29, 1488.2333333333333) (39, 1488.2249999999999) (49, 1489.98) (59, 1491.5999999999999) (69, 1490.4285714285713) (79, 1489.9000000000001) (89, 1490.2222222222222) (99, 1490.76)\n"
     ]
    }
   ],
   "source": [
    "n_trials = 100\n",
    "num_computations = []\n",
    "\n",
    "for index in range(n_trials):\n",
    "    X = run_experiment(birch3)\n",
    "    distance_evaluations = get_n_computed(X[\"text\"], \"trimed\")\n",
    "    num_computations.append(distance_evaluations)\n",
    "    if index%10 == 9:\n",
    "        print (index, np.mean(num_computations)),"
   ]
  },
  {
   "cell_type": "code",
   "execution_count": null,
   "metadata": {
    "collapsed": true
   },
   "outputs": [],
   "source": []
  }
 ],
 "metadata": {
  "kernelspec": {
   "display_name": "Python 2",
   "language": "python",
   "name": "python2"
  },
  "language_info": {
   "codemirror_mode": {
    "name": "ipython",
    "version": 2
   },
   "file_extension": ".py",
   "mimetype": "text/x-python",
   "name": "python",
   "nbconvert_exporter": "python",
   "pygments_lexer": "ipython2",
   "version": "2.7.12"
  }
 },
 "nbformat": 4,
 "nbformat_minor": 0
}

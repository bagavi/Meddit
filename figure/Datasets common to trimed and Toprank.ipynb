{
 "cells": [
  {
   "cell_type": "code",
   "execution_count": 1,
   "metadata": {
    "collapsed": false
   },
   "outputs": [],
   "source": [
    "%matplotlib inline\n",
    "import seaborn as sns\n",
    "import numpy as np\n",
    "import pandas as pd\n",
    "import matplotlib.pyplot as plt\n",
    "from collections import Counter\n",
    "import matplotlib.patches as mpatches\n",
    "import matplotlib, collections\n",
    "from scipy.stats import norm\n",
    "import imp, os, pickle\n",
    "from sklearn.metrics.pairwise import pairwise_distances\n",
    "import warnings\n",
    "from matplotlib import collections  as mc\n",
    "warnings.filterwarnings(\"ignore\")\n",
    "import sys\n",
    "sys.path.append(\"/data/medoid_bandit/E18_Mice/trimed/build/python\")\n",
    "import pytrimed\n",
    "import numpy.random as npr\n",
    "import networkx as nx\n",
    "\n",
    "from IPython.core.debugger import Tracer "
   ]
  },
  {
   "cell_type": "markdown",
   "metadata": {},
   "source": [
    "## Birch 1 - Meddit"
   ]
  },
  {
   "cell_type": "code",
   "execution_count": 51,
   "metadata": {
    "collapsed": false,
    "scrolled": true
   },
   "outputs": [
    {
     "name": "stdout",
     "output_type": "stream",
     "text": [
      "Birch 1\n",
      "No. experiments\t92\n",
      "Accuracy\t0.989130434783\n",
      "Avg pulls\t1435.72403478\n"
     ]
    }
   ],
   "source": [
    "mab_folder = '../experiments/birch1/meddit/'\n",
    "mab = []\n",
    "m = 500\n",
    "best_arm = 30403\n",
    "total_pulls = 0\n",
    "print \"Birch 1\\nNo. experiments\\t\", len(os.listdir(mab_folder))\n",
    "for flname in os.listdir(mab_folder):\n",
    "    with open(mab_folder+flname,'rb') as f:\n",
    "        x=pickle.load(f)\n",
    "        if len(x) == 1:\n",
    "            x = x[0]\n",
    "        total_pulls += x[1]\n",
    "        answer = x[0]\n",
    "        mab += [np.pad(answer==best_arm, (0,m-len(answer)), 'edge')]    \n",
    "mab = np.array(mab)\n",
    "\n",
    "print \"Accuracy\\t\" ,mab[:,-1].mean()\n",
    "print \"Avg pulls\\t\", total_pulls/len(os.listdir(mab_folder))"
   ]
  },
  {
   "cell_type": "markdown",
   "metadata": {},
   "source": [
    "# Birch 2 -  Meddit"
   ]
  },
  {
   "cell_type": "code",
   "execution_count": 52,
   "metadata": {
    "collapsed": false
   },
   "outputs": [
    {
     "name": "stdout",
     "output_type": "stream",
     "text": [
      "Birch 2\n",
      "No. experiments\t115\n",
      "Accuracy\t1.0\n",
      "Avg pulls\t2139.91973287\n"
     ]
    }
   ],
   "source": [
    "mab_folder = '../experiments/birch2/meddit/'\n",
    "mab = []\n",
    "m = 500\n",
    "best_arm = 38388\n",
    "total_pulls = 0\n",
    "print \"Birch 2\\nNo. experiments\\t\", len(os.listdir(mab_folder))\n",
    "for flname in os.listdir(mab_folder):\n",
    "    try:\n",
    "        with open(mab_folder+flname,'rb') as f:\n",
    "            x=pickle.load(f)\n",
    "            if len(x) == 1:\n",
    "                x = x[0]\n",
    "            total_pulls += x[1]\n",
    "            answer = x[0] \n",
    "            mab += [np.pad(answer==best_arm, (0,m-len(answer)), 'edge')]    \n",
    "    except:\n",
    "        print \"Wrong exp\", flname\n",
    "mab = np.array(mab)\n",
    "\n",
    "print \"Accuracy\\t\" ,mab[:,-1].mean()\n",
    "print \"Avg pulls\\t\", total_pulls/len(os.listdir(mab_folder))"
   ]
  },
  {
   "cell_type": "markdown",
   "metadata": {},
   "source": [
    "# Birch 3 -  Meddit"
   ]
  },
  {
   "cell_type": "code",
   "execution_count": 53,
   "metadata": {
    "collapsed": false
   },
   "outputs": [
    {
     "name": "stdout",
     "output_type": "stream",
     "text": [
      "Birch 3\n",
      "No. experiments\t25\n",
      "Accuracy\t1.0\n",
      "Avg pulls\t1737.9569664\n"
     ]
    }
   ],
   "source": [
    "mab_folder = '../experiments/birch3/meddit/'\n",
    "mab = []\n",
    "m = 500\n",
    "best_arm = 46990.0\n",
    "total_pulls = 0\n",
    "print \"Birch 3\\nNo. experiments\\t\", len(os.listdir(mab_folder))\n",
    "for flname in os.listdir(mab_folder):\n",
    "    try:\n",
    "        with open(mab_folder+flname,'rb') as f:\n",
    "            x=pickle.load(f)\n",
    "            if len(x) == 1:\n",
    "                x = x[0]\n",
    "            total_pulls += x[1]\n",
    "            answer = x[0]\n",
    "            mab += [np.pad(answer==best_arm, (0,m-len(answer)), 'edge')]    \n",
    "    except:\n",
    "        print \"Wrong exp\", flname\n",
    "mab = np.array(mab)\n",
    "\n",
    "print \"Accuracy\\t\" ,mab[:,-1].mean()\n",
    "print \"Avg pulls\\t\", total_pulls/len(os.listdir(mab_folder))"
   ]
  },
  {
   "cell_type": "markdown",
   "metadata": {},
   "source": [
    "# U-sensor-Meddit"
   ]
  },
  {
   "cell_type": "code",
   "execution_count": 54,
   "metadata": {
    "collapsed": false
   },
   "outputs": [
    {
     "name": "stdout",
     "output_type": "stream",
     "text": [
      "u-sensor\n",
      "No. experiments\t50\n",
      "[ 67394.  67394.  61787.  48048.  67394.  61787.  61787.  61787.  61787.\n",
      "  51248.  61787.  57318.  61787.  61787.  61787.  61787.  61787.  61787.\n",
      "  61787.  61787.  61787.  61787.  51248.  51248.  61787.  61787.  50123.\n",
      "  61787.  51248.  51248.  51146.  50489.  61787.  51248.  61787.  61787.\n",
      "  51248.  61787.  61787.  61787.  49508.  51248.  61787.  61787.  61787.\n",
      "  61787.  67394.  61787.  61787.  61787.]\n",
      "Accuracy\t0.64\n",
      "Avg pulls\t176.43026096\n"
     ]
    }
   ],
   "source": [
    "mab_folder = '../experiments/u-sensor/meddit/'\n",
    "mab = []\n",
    "m = 500\n",
    "best_arm = 61787\n",
    "total_pulls = 0\n",
    "print \"u-sensor\\nNo. experiments\\t\", len(os.listdir(mab_folder))\n",
    "for flname in os.listdir(mab_folder):\n",
    "    try:\n",
    "        with open(mab_folder+flname,'rb') as f:\n",
    "            x=pickle.load(f)\n",
    "            if len(x) == 1:\n",
    "                x = x[0]\n",
    "            total_pulls += x[1]\n",
    "            answer = x[0]\n",
    "            mab += [np.pad(answer, (0,m-len(answer)), 'edge')]    \n",
    "    except:\n",
    "        print \"Wrong exp\", flname\n",
    "mab = np.array(mab)\n",
    "\n",
    "print mab[:,-1]\n",
    "print \"Accuracy\\t\" ,(mab[:,-1]==best_arm).mean()\n",
    "print \"Avg pulls\\t\", total_pulls/len(os.listdir(mab_folder))"
   ]
  },
  {
   "cell_type": "markdown",
   "metadata": {},
   "source": [
    "# D-sensor - Meddit"
   ]
  },
  {
   "cell_type": "code",
   "execution_count": 55,
   "metadata": {
    "collapsed": false
   },
   "outputs": [
    {
     "name": "stdout",
     "output_type": "stream",
     "text": [
      "u-sensor No. experiments\t50\n",
      "Accuracy\t0.74\n",
      "Avg pulls\t204.287258632\n"
     ]
    }
   ],
   "source": [
    "mab_folder = '../experiments/d-sensor/meddit/'\n",
    "mab = []\n",
    "m = 500\n",
    "best_arm = 43230\n",
    "total_pulls = 0\n",
    "print \"u-sensor No. experiments\\t\", len(os.listdir(mab_folder))\n",
    "for flname in os.listdir(mab_folder):\n",
    "    try:\n",
    "        with open(mab_folder+flname,'rb') as f:\n",
    "            x=pickle.load(f)\n",
    "            if len(x) == 1:\n",
    "                x = x[0]\n",
    "            total_pulls += x[1]\n",
    "            answer = x[0]\n",
    "            mab += [np.pad(answer, (0,m-len(answer)), 'edge')]    \n",
    "    except:\n",
    "        print \"Wrong exp\", flname\n",
    "mab = np.array(mab)\n",
    "\n",
    "print \"Accuracy\\t\" ,(mab[:,-1]==best_arm).mean()\n",
    "print \"Avg pulls\\t\", total_pulls/len(os.listdir(mab_folder))"
   ]
  },
  {
   "cell_type": "markdown",
   "metadata": {},
   "source": [
    "# Europe rail - Meddit"
   ]
  },
  {
   "cell_type": "code",
   "execution_count": 57,
   "metadata": {
    "collapsed": false
   },
   "outputs": [
    {
     "name": "stdout",
     "output_type": "stream",
     "text": [
      "u-sensor No. experiments\t307\n",
      "Accuracy\t0.960912052117\n",
      "Avg pulls\t141.613291524\n"
     ]
    }
   ],
   "source": [
    "mab_folder = '../experiments/eurorail/meddit/'\n",
    "mab = []\n",
    "m = 500\n",
    "best_arm = 45216\n",
    "total_pulls = 0\n",
    "print \"u-sensor No. experiments\\t\", len(os.listdir(mab_folder))\n",
    "for flname in os.listdir(mab_folder):\n",
    "    try:\n",
    "        with open(mab_folder+flname,'rb') as f:\n",
    "            x=pickle.load(f)\n",
    "            if len(x) == 1:\n",
    "                x = x[0]\n",
    "            total_pulls += x[1]\n",
    "            answer = x[0]\n",
    "#             print answer\n",
    "            mab += [np.pad(answer==best_arm, (0,m-len(answer)), 'edge')]    \n",
    "    except:\n",
    "        print \"Wrong exp\", flname\n",
    "mab = np.array(mab)\n",
    "\n",
    "print \"Accuracy\\t\" ,mab[:,-1].mean()\n",
    "print \"Avg pulls\\t\", total_pulls/len(os.listdir(mab_folder))"
   ]
  },
  {
   "cell_type": "code",
   "execution_count": 15,
   "metadata": {
    "collapsed": false
   },
   "outputs": [
    {
     "name": "stdout",
     "output_type": "stream",
     "text": [
      "u-sensor No. experiments\t18\n",
      "15.pkl 814663.0\n",
      "20.pkl 273014.0\n",
      "26.pkl 273014.0\n",
      "27.pkl 273015.0\n",
      "5.pkl 557530.0\n",
      "Wrong exp 11.pkl\n",
      "Accuracy\t0.705882352941\n",
      "Avg pulls\t111.283244404\n"
     ]
    }
   ],
   "source": [
    "mab_folder = '../experiments/penn/meddit/'\n",
    "mab = []\n",
    "m = 500\n",
    "best_arm = 720129\n",
    "total_pulls = 0\n",
    "print \"u-sensor No. experiments\\t\", len(os.listdir(mab_folder))\n",
    "for flname in os.listdir(mab_folder):\n",
    "    try:\n",
    "        with open(mab_folder+flname,'rb') as f:\n",
    "            x=pickle.load(f)\n",
    "            if len(x) == 1:\n",
    "                x = x[0]\n",
    "            total_pulls += x[1]\n",
    "            answer = x[0]\n",
    "#             print answer\n",
    "            if not answer[-1]==best_arm:\n",
    "                print flname, answer[-1]\n",
    "            mab += [np.pad(answer, (0,m-len(answer)), 'edge')]    \n",
    "    except:\n",
    "        print \"Wrong exp\", flname\n",
    "mab = np.array(mab)\n",
    "\n",
    "print \"Accuracy\\t\" ,(mab[:,-1]==best_arm).mean()\n",
    "print \"Avg pulls\\t\", total_pulls/len(os.listdir(mab_folder))"
   ]
  },
  {
   "cell_type": "markdown",
   "metadata": {},
   "source": [
    "# trimed/toprank library"
   ]
  },
  {
   "cell_type": "code",
   "execution_count": 44,
   "metadata": {
    "collapsed": true
   },
   "outputs": [],
   "source": [
    "def get_n_computed(X, alg):\n",
    "    if alg == \"trimed\":\n",
    "        return int(X.split(\"\\n\")[-2].split()[2])\n",
    "    else:\n",
    "        return int(X.split(\"\\n\")[-2].split()[1])\n",
    "\n",
    "\n",
    "def run_experiment(data,alg = \"trimed\"):\n",
    "    n,d = np.shape(data)\n",
    "#     print \"d = \", d, \" n = \", n, \"  alg = \", alg\n",
    "    X = pytrimed.pmedoid(data, datatype = \"points\", algorithm = alg, capture_output = True, maxcomputes = None)\n",
    "    return X\n",
    "\n",
    "def U_Sensor_net(ndata):\n",
    "    edges = pytrimed.pgetsensornet(ndata, 1.25)\n",
    "    edges = np.array(edges, dtype = np.uint64)\n",
    "    edges = edges.reshape(-1,2)\n",
    "    G = nx.Graph()\n",
    "    G.add_edges_from(edges)\n",
    "    return G\n",
    "\n",
    "def D_Sensor_net(ndata):\n",
    "    edges = pytrimed.pgetsensornet(ndata, 1.45)\n",
    "    edges = np.array(edges, dtype = np.uint64)\n",
    "    edges = edges.reshape(-1,2)  \n",
    "    rev_edges = edges.copy()\n",
    "    rev_edges[:,0] = edges[:,1]\n",
    "    rev_edges[:,1] = edges[:,0]\n",
    "    nedges = edges.shape[0]\n",
    "    original = (npr.rand(nedges) > 0.5).reshape(-1,1)\n",
    "    edges = np.array(edges*original + rev_edges*(1 - original), dtype = np.uint64)\n",
    "    G = nx.DiGraph()\n",
    "    G.add_edges_from(edges)\n",
    "    return G\n",
    "\n",
    "    "
   ]
  },
  {
   "cell_type": "markdown",
   "metadata": {},
   "source": [
    "# Birch1-trimed"
   ]
  },
  {
   "cell_type": "code",
   "execution_count": 9,
   "metadata": {
    "collapsed": false
   },
   "outputs": [
    {
     "name": "stdout",
     "output_type": "stream",
     "text": [
      "(9, 2188.4000000000001) (19, 2192.5)\n"
     ]
    }
   ],
   "source": [
    "birch1 = np.loadtxt(\"/data/medoid_bandit/E18_Mice/trimed_datasets/birch1/birch1.txt\")\n",
    "n_trials = 20\n",
    "num_computations_birch1 = []\n",
    "\n",
    "for index in range(n_trials):\n",
    "    X = run_experiment(birch1)\n",
    "    distance_evaluations = get_n_computed(X[\"text\"], \"trimed\")\n",
    "    num_computations_birch1.append(distance_evaluations)\n",
    "    if index%10 == 9:\n",
    "        print (index, np.mean(num_computations_birch1)),"
   ]
  },
  {
   "cell_type": "markdown",
   "metadata": {},
   "source": [
    "# Birch2-trimed"
   ]
  },
  {
   "cell_type": "code",
   "execution_count": 10,
   "metadata": {
    "collapsed": false
   },
   "outputs": [
    {
     "name": "stdout",
     "output_type": "stream",
     "text": [
      "(9, 2186.0999999999999) (19, 2187.25)\n"
     ]
    }
   ],
   "source": [
    "birch2 = np.loadtxt(\"/data/medoid_bandit/E18_Mice/trimed_datasets/birch2/birch2.txt\")\n",
    "n_trials = 20\n",
    "num_computations_birch2 = []\n",
    "\n",
    "for index in range(n_trials):\n",
    "    X = run_experiment(birch2)\n",
    "    distance_evaluations = get_n_computed(X[\"text\"], \"trimed\")\n",
    "    num_computations_birch2.append(distance_evaluations)\n",
    "    if index%10 == 9:\n",
    "        print (index, np.mean(num_computations_birch2)),"
   ]
  },
  {
   "cell_type": "markdown",
   "metadata": {},
   "source": [
    "# Birch3-trimed"
   ]
  },
  {
   "cell_type": "code",
   "execution_count": 11,
   "metadata": {
    "collapsed": false
   },
   "outputs": [
    {
     "name": "stdout",
     "output_type": "stream",
     "text": [
      "(9, 1495.0) (19, 1489.7)\n"
     ]
    }
   ],
   "source": [
    "birch3 = np.loadtxt(\"/data/medoid_bandit/E18_Mice/trimed_datasets/birch3/birch3.txt\")\n",
    "n_trials = 20\n",
    "num_computations_birch3 = []\n",
    "\n",
    "for index in range(n_trials):\n",
    "    X = run_experiment(birch3)\n",
    "    distance_evaluations = get_n_computed(X[\"text\"], \"trimed\")\n",
    "    num_computations_birch3.append(distance_evaluations)\n",
    "    if index%10 == 9:\n",
    "        print (index, np.mean(num_computations_birch3)),"
   ]
  },
  {
   "cell_type": "markdown",
   "metadata": {},
   "source": [
    "# U-sensor trimed"
   ]
  },
  {
   "cell_type": "code",
   "execution_count": 63,
   "metadata": {
    "collapsed": false
   },
   "outputs": [
    {
     "name": "stdout",
     "output_type": "stream",
     "text": [
      "87201\n",
      "87201vector made\n",
      " 220078\n"
     ]
    }
   ],
   "source": [
    "ndata = 100000\n",
    "G_U_orig = U_Sensor_net(ndata)\n",
    "max_len = 0\n",
    "for H in nx.connected_components(G_U_orig):\n",
    "    if len(H) > max_len:\n",
    "        max_len = len(H)\n",
    "        H_max = H\n",
    "        print max_len\n",
    "G_U_1 = G_U_orig.subgraph(list(H_max)).copy()\n",
    "print len(G_U_1.nodes()), len(G_U_1.edges())\n",
    "mapping = dict(zip(G_U_1.nodes(),range(len(G_U_1.nodes()))))\n",
    "G_U = nx.relabel_nodes(G_U_1,mapping)"
   ]
  },
  {
   "cell_type": "code",
   "execution_count": 65,
   "metadata": {
    "collapsed": false
   },
   "outputs": [
    {
     "name": "stdout",
     "output_type": "stream",
     "text": [
      "(9, 1371.5999999999999) (19, 1370.7)\n"
     ]
    }
   ],
   "source": [
    "n_trials = 20\n",
    "num_computations = []\n",
    "for index in range(n_trials):\n",
    "    X_U = pytrimed.pmedoid(np.array(G_U.edges(), dtype=np.uint64), datatype = \"uu_edges\", algorithm = \"trimed\", \n",
    "                       capture_output = True, maxcomputes = None)\n",
    "    distance_evaluations = get_n_computed(X_U['text'],'trimed')\n",
    "    num_computations.append(distance_evaluations)\n",
    "    if index%10 == 9:\n",
    "        print (index, np.mean(num_computations)),"
   ]
  },
  {
   "cell_type": "markdown",
   "metadata": {},
   "source": [
    "# D-sensor trimed"
   ]
  },
  {
   "cell_type": "code",
   "execution_count": 70,
   "metadata": {
    "collapsed": false
   },
   "outputs": [
    {
     "name": "stdout",
     "output_type": "stream",
     "text": [
      "1\n",
      "21\n",
      "29\n",
      "38\n",
      "42vector made\n",
      "\n",
      "52\n",
      "114\n",
      "142\n",
      "177\n",
      "198\n",
      "256\n",
      "1750\n",
      "2973\n",
      "8328\n",
      "10468\n",
      "60553\n",
      "60553 208935\n"
     ]
    }
   ],
   "source": [
    "ndata = 200000\n",
    "G_D_orig = D_Sensor_net(ndata)\n",
    "max_len = 0\n",
    "for H in nx.strongly_connected_components(G_D_orig):\n",
    "    if len(H) > max_len:\n",
    "        max_len = len(H)\n",
    "        H_max = H\n",
    "        print max_len\n",
    "G_D_1 = G_D_orig.subgraph(list(H_max)).copy()\n",
    "print len(G_D_1.nodes()), len(G_D_1.edges())\n",
    "mapping = dict(zip(G_D_1.nodes(),range(len(G_D_1.nodes()))))\n",
    "G_D = nx.relabel_nodes(G_D_1,mapping)"
   ]
  },
  {
   "cell_type": "code",
   "execution_count": 71,
   "metadata": {
    "collapsed": false
   },
   "outputs": [
    {
     "name": "stdout",
     "output_type": "stream",
     "text": [
      "(9, 862.5) (19, 866.20000000000005)\n"
     ]
    }
   ],
   "source": [
    "n_trials = 20\n",
    "num_computations = []\n",
    "for index in range(n_trials):\n",
    "    X_D = pytrimed.pmedoid(np.array(G_D.edges(), dtype=np.uint64), datatype = \"du_edges\", algorithm = \"trimed\", \n",
    "                       capture_output = True, maxcomputes = None)\n",
    "    distance_evaluations = get_n_computed(X_D['text'],'trimed')\n",
    "    num_computations.append(distance_evaluations)\n",
    "    if index%10 == 9:\n",
    "        print (index, np.mean(num_computations)),"
   ]
  },
  {
   "cell_type": "markdown",
   "metadata": {},
   "source": [
    "# Birch1-TOPRANK"
   ]
  },
  {
   "cell_type": "code",
   "execution_count": 12,
   "metadata": {
    "collapsed": false
   },
   "outputs": [
    {
     "name": "stdout",
     "output_type": "stream",
     "text": [
      "(0, 57760.0)\n"
     ]
    }
   ],
   "source": [
    "birch1 = np.loadtxt(\"/data/medoid_bandit/E18_Mice/trimed_datasets/birch1/birch1.txt\")\n",
    "n_trials = 1\n",
    "num_computations_birch1_TOPRANK = []\n",
    "\n",
    "for index in range(n_trials):\n",
    "    X = run_experiment(birch1, \"TOPRANK1\")\n",
    "    distance_evaluations = get_n_computed(X[\"text\"], \"TOPRANK1\")\n",
    "    num_computations_birch1_TOPRANK.append(distance_evaluations)\n",
    "    if index%10 == 0:\n",
    "        print (index, np.mean(num_computations_birch1_TOPRANK)),"
   ]
  },
  {
   "cell_type": "markdown",
   "metadata": {},
   "source": [
    "# Birch2-TOPRANK"
   ]
  },
  {
   "cell_type": "code",
   "execution_count": 13,
   "metadata": {
    "collapsed": false
   },
   "outputs": [
    {
     "name": "stdout",
     "output_type": "stream",
     "text": [
      "(0, 66100.0)\n"
     ]
    }
   ],
   "source": [
    "birch2 = np.loadtxt(\"/data/medoid_bandit/E18_Mice/trimed_datasets/birch2/birch2.txt\")\n",
    "n_trials = 1\n",
    "num_computations_birch2_TOPRANK = []\n",
    "\n",
    "for index in range(n_trials):\n",
    "    X = run_experiment(birch2, \"TOPRANK1\")\n",
    "    distance_evaluations = get_n_computed(X[\"text\"], \"TOPRANK1\")\n",
    "    num_computations_birch2_TOPRANK.append(distance_evaluations)\n",
    "    if index%10 == 0:\n",
    "        print (index, np.mean(num_computations_birch2_TOPRANK)),"
   ]
  },
  {
   "cell_type": "markdown",
   "metadata": {},
   "source": [
    "# Birch3-TOPRANK"
   ]
  },
  {
   "cell_type": "code",
   "execution_count": 14,
   "metadata": {
    "collapsed": false
   },
   "outputs": [
    {
     "name": "stdout",
     "output_type": "stream",
     "text": [
      "(0, 61759.0)\n"
     ]
    }
   ],
   "source": [
    "birch3 = np.loadtxt(\"/data/medoid_bandit/E18_Mice/trimed_datasets/birch3/birch3.txt\")\n",
    "n_trials = 1\n",
    "num_computations_birch3_TOPRANK = []\n",
    "\n",
    "for index in range(n_trials):\n",
    "    X = run_experiment(birch3, \"TOPRANK1\")\n",
    "    distance_evaluations = get_n_computed(X[\"text\"], \"TOPRANK1\")\n",
    "    num_computations_birch3_TOPRANK.append(distance_evaluations)\n",
    "    if index%10 == 0:\n",
    "        print (index, np.mean(num_computations_birch3_TOPRANK)),"
   ]
  },
  {
   "cell_type": "code",
   "execution_count": null,
   "metadata": {
    "collapsed": true
   },
   "outputs": [],
   "source": []
  }
 ],
 "metadata": {
  "kernelspec": {
   "display_name": "Python 2",
   "language": "python",
   "name": "python2"
  },
  "language_info": {
   "codemirror_mode": {
    "name": "ipython",
    "version": 2
   },
   "file_extension": ".py",
   "mimetype": "text/x-python",
   "name": "python",
   "nbconvert_exporter": "python",
   "pygments_lexer": "ipython2",
   "version": "2.7.12"
  }
 },
 "nbformat": 4,
 "nbformat_minor": 2
}
